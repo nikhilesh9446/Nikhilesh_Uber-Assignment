{
 "cells": [
  {
   "cell_type": "code",
   "execution_count": 13,
   "metadata": {},
   "outputs": [],
   "source": [
    "import pandas as pd\n",
    "import numpy as np\n",
    "import matplotlib.pyplot as plt\n",
    "import seaborn as sns\n",
    "import datetime as dt"
   ]
  },
  {
   "cell_type": "markdown",
   "metadata": {},
   "source": [
    "### All necessary libraries are imported"
   ]
  },
  {
   "cell_type": "code",
   "execution_count": 14,
   "metadata": {},
   "outputs": [
    {
     "data": {
      "text/html": [
       "<div>\n",
       "<style scoped>\n",
       "    .dataframe tbody tr th:only-of-type {\n",
       "        vertical-align: middle;\n",
       "    }\n",
       "\n",
       "    .dataframe tbody tr th {\n",
       "        vertical-align: top;\n",
       "    }\n",
       "\n",
       "    .dataframe thead th {\n",
       "        text-align: right;\n",
       "    }\n",
       "</style>\n",
       "<table border=\"1\" class=\"dataframe\">\n",
       "  <thead>\n",
       "    <tr style=\"text-align: right;\">\n",
       "      <th></th>\n",
       "      <th>Request id</th>\n",
       "      <th>Pickup point</th>\n",
       "      <th>Driver id</th>\n",
       "      <th>Status</th>\n",
       "      <th>Request timestamp</th>\n",
       "      <th>Drop timestamp</th>\n",
       "    </tr>\n",
       "  </thead>\n",
       "  <tbody>\n",
       "    <tr>\n",
       "      <th>0</th>\n",
       "      <td>619</td>\n",
       "      <td>Airport</td>\n",
       "      <td>1.0</td>\n",
       "      <td>Trip Completed</td>\n",
       "      <td>11/7/2016 11:51</td>\n",
       "      <td>11/7/2016 13:00</td>\n",
       "    </tr>\n",
       "    <tr>\n",
       "      <th>1</th>\n",
       "      <td>867</td>\n",
       "      <td>Airport</td>\n",
       "      <td>1.0</td>\n",
       "      <td>Trip Completed</td>\n",
       "      <td>11/7/2016 17:57</td>\n",
       "      <td>11/7/2016 18:47</td>\n",
       "    </tr>\n",
       "    <tr>\n",
       "      <th>2</th>\n",
       "      <td>1807</td>\n",
       "      <td>City</td>\n",
       "      <td>1.0</td>\n",
       "      <td>Trip Completed</td>\n",
       "      <td>12/7/2016 9:17</td>\n",
       "      <td>12/7/2016 9:58</td>\n",
       "    </tr>\n",
       "    <tr>\n",
       "      <th>3</th>\n",
       "      <td>2532</td>\n",
       "      <td>Airport</td>\n",
       "      <td>1.0</td>\n",
       "      <td>Trip Completed</td>\n",
       "      <td>12/7/2016 21:08</td>\n",
       "      <td>12/7/2016 22:03</td>\n",
       "    </tr>\n",
       "    <tr>\n",
       "      <th>4</th>\n",
       "      <td>3112</td>\n",
       "      <td>City</td>\n",
       "      <td>1.0</td>\n",
       "      <td>Trip Completed</td>\n",
       "      <td>13-07-2016 08:33:16</td>\n",
       "      <td>13-07-2016 09:25:47</td>\n",
       "    </tr>\n",
       "    <tr>\n",
       "      <th>5</th>\n",
       "      <td>3879</td>\n",
       "      <td>Airport</td>\n",
       "      <td>1.0</td>\n",
       "      <td>Trip Completed</td>\n",
       "      <td>13-07-2016 21:57:28</td>\n",
       "      <td>13-07-2016 22:28:59</td>\n",
       "    </tr>\n",
       "    <tr>\n",
       "      <th>6</th>\n",
       "      <td>4270</td>\n",
       "      <td>Airport</td>\n",
       "      <td>1.0</td>\n",
       "      <td>Trip Completed</td>\n",
       "      <td>14-07-2016 06:15:32</td>\n",
       "      <td>14-07-2016 07:13:15</td>\n",
       "    </tr>\n",
       "    <tr>\n",
       "      <th>7</th>\n",
       "      <td>5510</td>\n",
       "      <td>Airport</td>\n",
       "      <td>1.0</td>\n",
       "      <td>Trip Completed</td>\n",
       "      <td>15-07-2016 05:11:52</td>\n",
       "      <td>15-07-2016 06:07:52</td>\n",
       "    </tr>\n",
       "    <tr>\n",
       "      <th>8</th>\n",
       "      <td>6248</td>\n",
       "      <td>City</td>\n",
       "      <td>1.0</td>\n",
       "      <td>Trip Completed</td>\n",
       "      <td>15-07-2016 17:57:27</td>\n",
       "      <td>15-07-2016 18:50:51</td>\n",
       "    </tr>\n",
       "    <tr>\n",
       "      <th>9</th>\n",
       "      <td>267</td>\n",
       "      <td>City</td>\n",
       "      <td>2.0</td>\n",
       "      <td>Trip Completed</td>\n",
       "      <td>11/7/2016 6:46</td>\n",
       "      <td>11/7/2016 7:25</td>\n",
       "    </tr>\n",
       "    <tr>\n",
       "      <th>10</th>\n",
       "      <td>1467</td>\n",
       "      <td>Airport</td>\n",
       "      <td>2.0</td>\n",
       "      <td>Trip Completed</td>\n",
       "      <td>12/7/2016 5:08</td>\n",
       "      <td>12/7/2016 6:02</td>\n",
       "    </tr>\n",
       "    <tr>\n",
       "      <th>11</th>\n",
       "      <td>1983</td>\n",
       "      <td>City</td>\n",
       "      <td>2.0</td>\n",
       "      <td>Trip Completed</td>\n",
       "      <td>12/7/2016 12:30</td>\n",
       "      <td>12/7/2016 12:57</td>\n",
       "    </tr>\n",
       "    <tr>\n",
       "      <th>12</th>\n",
       "      <td>2784</td>\n",
       "      <td>Airport</td>\n",
       "      <td>2.0</td>\n",
       "      <td>Trip Completed</td>\n",
       "      <td>13-07-2016 04:49:20</td>\n",
       "      <td>13-07-2016 05:23:03</td>\n",
       "    </tr>\n",
       "    <tr>\n",
       "      <th>13</th>\n",
       "      <td>3075</td>\n",
       "      <td>City</td>\n",
       "      <td>2.0</td>\n",
       "      <td>Trip Completed</td>\n",
       "      <td>13-07-2016 08:02:53</td>\n",
       "      <td>13-07-2016 09:16:19</td>\n",
       "    </tr>\n",
       "    <tr>\n",
       "      <th>14</th>\n",
       "      <td>3379</td>\n",
       "      <td>City</td>\n",
       "      <td>2.0</td>\n",
       "      <td>Trip Completed</td>\n",
       "      <td>13-07-2016 14:23:02</td>\n",
       "      <td>13-07-2016 15:35:18</td>\n",
       "    </tr>\n",
       "  </tbody>\n",
       "</table>\n",
       "</div>"
      ],
      "text/plain": [
       "    Request id Pickup point  Driver id          Status    Request timestamp  \\\n",
       "0          619      Airport        1.0  Trip Completed      11/7/2016 11:51   \n",
       "1          867      Airport        1.0  Trip Completed      11/7/2016 17:57   \n",
       "2         1807         City        1.0  Trip Completed       12/7/2016 9:17   \n",
       "3         2532      Airport        1.0  Trip Completed      12/7/2016 21:08   \n",
       "4         3112         City        1.0  Trip Completed  13-07-2016 08:33:16   \n",
       "5         3879      Airport        1.0  Trip Completed  13-07-2016 21:57:28   \n",
       "6         4270      Airport        1.0  Trip Completed  14-07-2016 06:15:32   \n",
       "7         5510      Airport        1.0  Trip Completed  15-07-2016 05:11:52   \n",
       "8         6248         City        1.0  Trip Completed  15-07-2016 17:57:27   \n",
       "9          267         City        2.0  Trip Completed       11/7/2016 6:46   \n",
       "10        1467      Airport        2.0  Trip Completed       12/7/2016 5:08   \n",
       "11        1983         City        2.0  Trip Completed      12/7/2016 12:30   \n",
       "12        2784      Airport        2.0  Trip Completed  13-07-2016 04:49:20   \n",
       "13        3075         City        2.0  Trip Completed  13-07-2016 08:02:53   \n",
       "14        3379         City        2.0  Trip Completed  13-07-2016 14:23:02   \n",
       "\n",
       "         Drop timestamp  \n",
       "0       11/7/2016 13:00  \n",
       "1       11/7/2016 18:47  \n",
       "2        12/7/2016 9:58  \n",
       "3       12/7/2016 22:03  \n",
       "4   13-07-2016 09:25:47  \n",
       "5   13-07-2016 22:28:59  \n",
       "6   14-07-2016 07:13:15  \n",
       "7   15-07-2016 06:07:52  \n",
       "8   15-07-2016 18:50:51  \n",
       "9        11/7/2016 7:25  \n",
       "10       12/7/2016 6:02  \n",
       "11      12/7/2016 12:57  \n",
       "12  13-07-2016 05:23:03  \n",
       "13  13-07-2016 09:16:19  \n",
       "14  13-07-2016 15:35:18  "
      ]
     },
     "execution_count": 14,
     "metadata": {},
     "output_type": "execute_result"
    }
   ],
   "source": [
    "#CSV file is imported as a dataframe \"data\"\n",
    "uber_data = pd.read_csv(\"Uber Request Data.csv\")\n",
    "uber_data.head(15)"
   ]
  },
  {
   "cell_type": "markdown",
   "metadata": {},
   "source": [
    "#### Now check if there are duplicate values in \" Request id \""
   ]
  },
  {
   "cell_type": "code",
   "execution_count": 15,
   "metadata": {},
   "outputs": [
    {
     "data": {
      "text/plain": [
       "False"
      ]
     },
     "execution_count": 15,
     "metadata": {},
     "output_type": "execute_result"
    }
   ],
   "source": [
    "uber_data.duplicated(subset = \"Request id\").any()"
   ]
  },
  {
   "cell_type": "markdown",
   "metadata": {},
   "source": [
    "#### Let's see dimension of the dataframe \"data\""
   ]
  },
  {
   "cell_type": "code",
   "execution_count": 16,
   "metadata": {},
   "outputs": [
    {
     "data": {
      "text/plain": [
       "(6745, 6)"
      ]
     },
     "execution_count": 16,
     "metadata": {},
     "output_type": "execute_result"
    }
   ],
   "source": [
    "uber_data.shape"
   ]
  },
  {
   "cell_type": "markdown",
   "metadata": {},
   "source": [
    "**Check NA values in data**"
   ]
  },
  {
   "cell_type": "code",
   "execution_count": 17,
   "metadata": {},
   "outputs": [
    {
     "data": {
      "text/plain": [
       "Request id              0\n",
       "Pickup point            0\n",
       "Driver id            2650\n",
       "Status                  0\n",
       "Request timestamp       0\n",
       "Drop timestamp       3914\n",
       "dtype: int64"
      ]
     },
     "execution_count": 17,
     "metadata": {},
     "output_type": "execute_result"
    }
   ],
   "source": [
    "uber_data.isnull().sum()"
   ]
  },
  {
   "cell_type": "markdown",
   "metadata": {},
   "source": [
    "**Column-wise percentage of NA values**"
   ]
  },
  {
   "cell_type": "code",
   "execution_count": 18,
   "metadata": {},
   "outputs": [
    {
     "data": {
      "text/plain": [
       "Request id            0.000000\n",
       "Pickup point          0.000000\n",
       "Driver id            39.288362\n",
       "Status                0.000000\n",
       "Request timestamp     0.000000\n",
       "Drop timestamp       58.028169\n",
       "dtype: float64"
      ]
     },
     "execution_count": 18,
     "metadata": {},
     "output_type": "execute_result"
    }
   ],
   "source": [
    "uber_data.isnull().sum()*100/uber_data.shape[0] "
   ]
  },
  {
   "cell_type": "markdown",
   "metadata": {},
   "source": [
    "**Correcting date-time format of Request timestamp and Drop timestamp**"
   ]
  },
  {
   "cell_type": "code",
   "execution_count": 19,
   "metadata": {},
   "outputs": [
    {
     "data": {
      "text/html": [
       "<div>\n",
       "<style scoped>\n",
       "    .dataframe tbody tr th:only-of-type {\n",
       "        vertical-align: middle;\n",
       "    }\n",
       "\n",
       "    .dataframe tbody tr th {\n",
       "        vertical-align: top;\n",
       "    }\n",
       "\n",
       "    .dataframe thead th {\n",
       "        text-align: right;\n",
       "    }\n",
       "</style>\n",
       "<table border=\"1\" class=\"dataframe\">\n",
       "  <thead>\n",
       "    <tr style=\"text-align: right;\">\n",
       "      <th></th>\n",
       "      <th>Request id</th>\n",
       "      <th>Pickup point</th>\n",
       "      <th>Driver id</th>\n",
       "      <th>Status</th>\n",
       "      <th>Request timestamp</th>\n",
       "      <th>Drop timestamp</th>\n",
       "    </tr>\n",
       "  </thead>\n",
       "  <tbody>\n",
       "    <tr>\n",
       "      <th>0</th>\n",
       "      <td>619</td>\n",
       "      <td>Airport</td>\n",
       "      <td>1.0</td>\n",
       "      <td>Trip Completed</td>\n",
       "      <td>2016-11-07 11:51:00</td>\n",
       "      <td>2016-11-07 13:00:00</td>\n",
       "    </tr>\n",
       "    <tr>\n",
       "      <th>1</th>\n",
       "      <td>867</td>\n",
       "      <td>Airport</td>\n",
       "      <td>1.0</td>\n",
       "      <td>Trip Completed</td>\n",
       "      <td>2016-11-07 17:57:00</td>\n",
       "      <td>2016-11-07 18:47:00</td>\n",
       "    </tr>\n",
       "    <tr>\n",
       "      <th>2</th>\n",
       "      <td>1807</td>\n",
       "      <td>City</td>\n",
       "      <td>1.0</td>\n",
       "      <td>Trip Completed</td>\n",
       "      <td>2016-12-07 09:17:00</td>\n",
       "      <td>2016-12-07 09:58:00</td>\n",
       "    </tr>\n",
       "    <tr>\n",
       "      <th>3</th>\n",
       "      <td>2532</td>\n",
       "      <td>Airport</td>\n",
       "      <td>1.0</td>\n",
       "      <td>Trip Completed</td>\n",
       "      <td>2016-12-07 21:08:00</td>\n",
       "      <td>2016-12-07 22:03:00</td>\n",
       "    </tr>\n",
       "    <tr>\n",
       "      <th>4</th>\n",
       "      <td>3112</td>\n",
       "      <td>City</td>\n",
       "      <td>1.0</td>\n",
       "      <td>Trip Completed</td>\n",
       "      <td>2016-07-13 08:33:16</td>\n",
       "      <td>2016-07-13 09:25:47</td>\n",
       "    </tr>\n",
       "  </tbody>\n",
       "</table>\n",
       "</div>"
      ],
      "text/plain": [
       "   Request id Pickup point  Driver id          Status   Request timestamp  \\\n",
       "0         619      Airport        1.0  Trip Completed 2016-11-07 11:51:00   \n",
       "1         867      Airport        1.0  Trip Completed 2016-11-07 17:57:00   \n",
       "2        1807         City        1.0  Trip Completed 2016-12-07 09:17:00   \n",
       "3        2532      Airport        1.0  Trip Completed 2016-12-07 21:08:00   \n",
       "4        3112         City        1.0  Trip Completed 2016-07-13 08:33:16   \n",
       "\n",
       "       Drop timestamp  \n",
       "0 2016-11-07 13:00:00  \n",
       "1 2016-11-07 18:47:00  \n",
       "2 2016-12-07 09:58:00  \n",
       "3 2016-12-07 22:03:00  \n",
       "4 2016-07-13 09:25:47  "
      ]
     },
     "execution_count": 19,
     "metadata": {},
     "output_type": "execute_result"
    }
   ],
   "source": [
    "uber_data['Request timestamp']=pd.to_datetime(uber_data['Request timestamp'])\n",
    "uber_data['Drop timestamp']=pd.to_datetime(uber_data['Drop timestamp'])\n",
    "uber_data.head()"
   ]
  },
  {
   "cell_type": "markdown",
   "metadata": {},
   "source": [
    "**Check what object each column of the dataset is !**"
   ]
  },
  {
   "cell_type": "code",
   "execution_count": 20,
   "metadata": {},
   "outputs": [
    {
     "name": "stdout",
     "output_type": "stream",
     "text": [
      "<class 'pandas.core.frame.DataFrame'>\n",
      "RangeIndex: 6745 entries, 0 to 6744\n",
      "Data columns (total 6 columns):\n",
      "Request id           6745 non-null int64\n",
      "Pickup point         6745 non-null object\n",
      "Driver id            4095 non-null float64\n",
      "Status               6745 non-null object\n",
      "Request timestamp    6745 non-null datetime64[ns]\n",
      "Drop timestamp       2831 non-null datetime64[ns]\n",
      "dtypes: datetime64[ns](2), float64(1), int64(1), object(2)\n",
      "memory usage: 316.2+ KB\n"
     ]
    }
   ],
   "source": [
    "uber_data.info()"
   ]
  },
  {
   "cell_type": "markdown",
   "metadata": {},
   "source": [
    "**Checking Null values in Drop timestamp column**"
   ]
  },
  {
   "cell_type": "code",
   "execution_count": 21,
   "metadata": {},
   "outputs": [
    {
     "data": {
      "text/plain": [
       "Status\n",
       "Cancelled            1264\n",
       "No Cars Available    2650\n",
       "dtype: int64"
      ]
     },
     "execution_count": 21,
     "metadata": {},
     "output_type": "execute_result"
    }
   ],
   "source": [
    "uber_data[(uber_data['Drop timestamp'].isnull())].groupby('Status').size()"
   ]
  },
  {
   "cell_type": "markdown",
   "metadata": {},
   "source": [
    "Here Null values are not invalid because when the trip doesn't happen then the Drop timestamp is unavailabe resulting empty rows and the status is either Cancelled or No Cars Available"
   ]
  },
  {
   "cell_type": "code",
   "execution_count": 22,
   "metadata": {},
   "outputs": [
    {
     "name": "stdout",
     "output_type": "stream",
     "text": [
      "['Trip Completed' 'Cancelled' 'No Cars Available']\n"
     ]
    }
   ],
   "source": [
    "print(uber_data['Status'].unique())"
   ]
  },
  {
   "cell_type": "markdown",
   "metadata": {},
   "source": [
    "**Check for Duplicate values**"
   ]
  },
  {
   "cell_type": "code",
   "execution_count": 23,
   "metadata": {},
   "outputs": [
    {
     "data": {
      "text/plain": [
       "0"
      ]
     },
     "execution_count": 23,
     "metadata": {},
     "output_type": "execute_result"
    }
   ],
   "source": [
    "len(uber_data[uber_data.duplicated()].index)"
   ]
  },
  {
   "cell_type": "markdown",
   "metadata": {},
   "source": [
    "# Analysis of uber_data"
   ]
  },
  {
   "cell_type": "markdown",
   "metadata": {},
   "source": [
    "## Univariate Analysis"
   ]
  },
  {
   "cell_type": "code",
   "execution_count": 24,
   "metadata": {},
   "outputs": [
    {
     "data": {
      "text/plain": [
       "<matplotlib.axes._subplots.AxesSubplot at 0x7a8cbaea90>"
      ]
     },
     "execution_count": 24,
     "metadata": {},
     "output_type": "execute_result"
    },
    {
     "data": {
      "image/png": "[encoded data removed]",
      "text/plain": [
       "<Figure size 432x288 with 1 Axes>"
      ]
     },
     "metadata": {},
     "output_type": "display_data"
    }
   ],
   "source": [
    "status = pd.crosstab(index=uber_data[\"Status\"], columns=\"count\")\n",
    "status.plot.bar()"
   ]
  },
  {
   "cell_type": "markdown",
   "metadata": {},
   "source": [
    "_Here we can see the count of status : No Cars Available is near the count of status : Trip Completed and this is the problem faced by UBER._"
   ]
  },
  {
   "cell_type": "code",
   "execution_count": 25,
   "metadata": {},
   "outputs": [
    {
     "data": {
      "text/plain": [
       "<matplotlib.axes._subplots.AxesSubplot at 0x7a8cf71160>"
      ]
     },
     "execution_count": 25,
     "metadata": {},
     "output_type": "execute_result"
    },
    {
     "data": {
      "image/png": "[encoded data removed]",
      "text/plain": [
       "<Figure size 432x288 with 1 Axes>"
      ]
     },
     "metadata": {},
     "output_type": "display_data"
    }
   ],
   "source": [
    "pickup=pd.crosstab(index=uber_data['Pickup point'],columns=\"count\")\n",
    "pickup.plot.bar()"
   ]
  },
  {
   "cell_type": "markdown",
   "metadata": {},
   "source": [
    "_Here we can see that the mostly passengers are picked up from the city. But also there is not much difference in count of pickup from Airport_"
   ]
  },
  {
   "cell_type": "markdown",
   "metadata": {},
   "source": [
    "## Bivariate Analysis"
   ]
  },
  {
   "cell_type": "code",
   "execution_count": 26,
   "metadata": {},
   "outputs": [
    {
     "data": {
      "text/plain": [
       "Status             Pickup point\n",
       "Cancelled          Airport          198\n",
       "                   City            1066\n",
       "No Cars Available  Airport         1713\n",
       "                   City             937\n",
       "Trip Completed     Airport         1327\n",
       "                   City            1504\n",
       "dtype: int64"
      ]
     },
     "execution_count": 26,
     "metadata": {},
     "output_type": "execute_result"
    }
   ],
   "source": [
    "uber_data.groupby(['Status','Pickup point']).size()"
   ]
  },
  {
   "cell_type": "markdown",
   "metadata": {},
   "source": [
    "_Here is the info about count of each Status from every Pickup point_"
   ]
  },
  {
   "cell_type": "code",
   "execution_count": 27,
   "metadata": {},
   "outputs": [
    {
     "data": {
      "text/plain": [
       "<matplotlib.axes._subplots.AxesSubplot at 0x7a8cfddef0>"
      ]
     },
     "execution_count": 27,
     "metadata": {},
     "output_type": "execute_result"
    },
    {
     "data": {
      "image/png": "[encoded data removed]",
      "text/plain": [
       "<Figure size 432x288 with 1 Axes>"
      ]
     },
     "metadata": {},
     "output_type": "display_data"
    }
   ],
   "source": [
    "sns.countplot(x=uber_data['Pickup point'], hue=uber_data['Status'], data=uber_data)"
   ]
  },
  {
   "cell_type": "markdown",
   "metadata": {},
   "source": [
    "_From the graph it can be deduced that there are more \"No cars available\" from Airport to City and more cars \"Cancelled\" from City to Airport_"
   ]
  },
  {
   "cell_type": "markdown",
   "metadata": {},
   "source": [
    "**Extracting hour and day from Request timestamp**"
   ]
  },
  {
   "cell_type": "code",
   "execution_count": 28,
   "metadata": {},
   "outputs": [],
   "source": [
    "req_hour = uber_data[\"Request timestamp\"].dt.hour\n",
    "uber_data[\"req_hour\"] = req_hour\n",
    "req_day = uber_data[\"Request timestamp\"].dt.day\n",
    "uber_data[\"req_hour\"] = req_hour"
   ]
  },
  {
   "cell_type": "markdown",
   "metadata": {},
   "source": [
    "**Creating Time slots for various time period of day**"
   ]
  },
  {
   "cell_type": "code",
   "execution_count": 29,
   "metadata": {},
   "outputs": [],
   "source": [
    "#timestamp divided into four categories\n",
    "def time_period(x):    \n",
    "    if x < 5:\n",
    "        return \"Early_Morning\"\n",
    "    elif 5 <= x < 11:\n",
    "        return \"Late_Morning\"\n",
    "    elif 11 <= x < 16:\n",
    "        return \"Noon\"\n",
    "    elif 16 <= x < 20:\n",
    "        return \"Evening\"\n",
    "    elif 20 <= x < 22:\n",
    "        return \"Night\"\n",
    "    else:\n",
    "        return \"Late_Night\"\n",
    "\n",
    "uber_data['time_slot'] = uber_data.req_hour.apply(lambda x: time_period(x))"
   ]
  },
  {
   "cell_type": "code",
   "execution_count": 30,
   "metadata": {},
   "outputs": [
    {
     "data": {
      "text/plain": [
       "Late_Morning     2346\n",
       "Evening          1560\n",
       "Night             941\n",
       "Noon              822\n",
       "Early_Morning     578\n",
       "Late_Night        498\n",
       "Name: time_slot, dtype: int64"
      ]
     },
     "execution_count": 30,
     "metadata": {},
     "output_type": "execute_result"
    }
   ],
   "source": [
    "uber_data.time_slot.value_counts()"
   ]
  },
  {
   "cell_type": "code",
   "execution_count": 31,
   "metadata": {},
   "outputs": [
    {
     "data": {
      "text/plain": [
       "<matplotlib.axes._subplots.AxesSubplot at 0x7a8d04a0b8>"
      ]
     },
     "execution_count": 31,
     "metadata": {},
     "output_type": "execute_result"
    },
    {
     "data": {
      "image/png": "[encoded data removed]",
      "text/plain": [
       "<Figure size 432x288 with 1 Axes>"
      ]
     },
     "metadata": {},
     "output_type": "display_data"
    }
   ],
   "source": [
    "sns.countplot(x = \"time_slot\", hue = \"Status\", data = uber_data)"
   ]
  },
  {
   "cell_type": "markdown",
   "metadata": {},
   "source": [
    "_From the graph we can deduce that \"No car available\" is mostly not found during evening and most car \"Cancelled\" is found in the  Morning_"
   ]
  },
  {
   "cell_type": "code",
   "execution_count": 32,
   "metadata": {},
   "outputs": [
    {
     "data": {
      "text/plain": [
       "<matplotlib.axes._subplots.AxesSubplot at 0x7a8d0c9710>"
      ]
     },
     "execution_count": 32,
     "metadata": {},
     "output_type": "execute_result"
    },
    {
     "data": {
      "image/png": "[encoded data removed]",
      "text/plain": [
       "<Figure size 432x288 with 1 Axes>"
      ]
     },
     "metadata": {},
     "output_type": "display_data"
    }
   ],
   "source": [
    "pickup_df = pd.DataFrame(uber_data.groupby(['Pickup point','time_slot', 'Status'])['Request id'].count().unstack(fill_value=0))\n",
    "pickup_df.plot.bar()"
   ]
  },
  {
   "cell_type": "markdown",
   "metadata": {},
   "source": [
    "_From the graph we can deduce that most \" No Cars Available \" are in the Evening from Airport to City and most \" Cancelled \" trips are in the Morning from City to Airport._ "
   ]
  },
  {
   "cell_type": "markdown",
   "metadata": {},
   "source": [
    "# Understanding The Demand Supply Gap"
   ]
  },
  {
   "cell_type": "code",
   "execution_count": 33,
   "metadata": {},
   "outputs": [],
   "source": [
    "uber_data['Demand']=1\n",
    "uber_data['Delivery']=0\n",
    "uber_data.loc[(uber_data['Status']=='Trip Completed'),'Delivery']=1\n",
    "uber_data['Gap']=uber_data['Demand']-uber_data['Delivery']\n",
    "uber_data.loc[uber_data['Gap']==0, 'Gap']='Trip is completed'\n",
    "uber_data.loc[uber_data['Gap']==1, 'Gap']='Trip is not completed'"
   ]
  },
  {
   "cell_type": "code",
   "execution_count": 34,
   "metadata": {},
   "outputs": [
    {
     "data": {
      "text/html": [
       "<div>\n",
       "<style scoped>\n",
       "    .dataframe tbody tr th:only-of-type {\n",
       "        vertical-align: middle;\n",
       "    }\n",
       "\n",
       "    .dataframe tbody tr th {\n",
       "        vertical-align: top;\n",
       "    }\n",
       "\n",
       "    .dataframe thead th {\n",
       "        text-align: right;\n",
       "    }\n",
       "</style>\n",
       "<table border=\"1\" class=\"dataframe\">\n",
       "  <thead>\n",
       "    <tr style=\"text-align: right;\">\n",
       "      <th></th>\n",
       "      <th>Request id</th>\n",
       "      <th>Pickup point</th>\n",
       "      <th>Driver id</th>\n",
       "      <th>Status</th>\n",
       "      <th>Request timestamp</th>\n",
       "      <th>Drop timestamp</th>\n",
       "      <th>req_hour</th>\n",
       "      <th>time_slot</th>\n",
       "      <th>Demand</th>\n",
       "      <th>Delivery</th>\n",
       "      <th>Gap</th>\n",
       "    </tr>\n",
       "  </thead>\n",
       "  <tbody>\n",
       "    <tr>\n",
       "      <th>0</th>\n",
       "      <td>619</td>\n",
       "      <td>Airport</td>\n",
       "      <td>1.0</td>\n",
       "      <td>Trip Completed</td>\n",
       "      <td>2016-11-07 11:51:00</td>\n",
       "      <td>2016-11-07 13:00:00</td>\n",
       "      <td>11</td>\n",
       "      <td>Noon</td>\n",
       "      <td>1</td>\n",
       "      <td>1</td>\n",
       "      <td>Trip is completed</td>\n",
       "    </tr>\n",
       "    <tr>\n",
       "      <th>1</th>\n",
       "      <td>867</td>\n",
       "      <td>Airport</td>\n",
       "      <td>1.0</td>\n",
       "      <td>Trip Completed</td>\n",
       "      <td>2016-11-07 17:57:00</td>\n",
       "      <td>2016-11-07 18:47:00</td>\n",
       "      <td>17</td>\n",
       "      <td>Evening</td>\n",
       "      <td>1</td>\n",
       "      <td>1</td>\n",
       "      <td>Trip is completed</td>\n",
       "    </tr>\n",
       "    <tr>\n",
       "      <th>2</th>\n",
       "      <td>1807</td>\n",
       "      <td>City</td>\n",
       "      <td>1.0</td>\n",
       "      <td>Trip Completed</td>\n",
       "      <td>2016-12-07 09:17:00</td>\n",
       "      <td>2016-12-07 09:58:00</td>\n",
       "      <td>9</td>\n",
       "      <td>Late_Morning</td>\n",
       "      <td>1</td>\n",
       "      <td>1</td>\n",
       "      <td>Trip is completed</td>\n",
       "    </tr>\n",
       "    <tr>\n",
       "      <th>3</th>\n",
       "      <td>2532</td>\n",
       "      <td>Airport</td>\n",
       "      <td>1.0</td>\n",
       "      <td>Trip Completed</td>\n",
       "      <td>2016-12-07 21:08:00</td>\n",
       "      <td>2016-12-07 22:03:00</td>\n",
       "      <td>21</td>\n",
       "      <td>Night</td>\n",
       "      <td>1</td>\n",
       "      <td>1</td>\n",
       "      <td>Trip is completed</td>\n",
       "    </tr>\n",
       "    <tr>\n",
       "      <th>4</th>\n",
       "      <td>3112</td>\n",
       "      <td>City</td>\n",
       "      <td>1.0</td>\n",
       "      <td>Trip Completed</td>\n",
       "      <td>2016-07-13 08:33:16</td>\n",
       "      <td>2016-07-13 09:25:47</td>\n",
       "      <td>8</td>\n",
       "      <td>Late_Morning</td>\n",
       "      <td>1</td>\n",
       "      <td>1</td>\n",
       "      <td>Trip is completed</td>\n",
       "    </tr>\n",
       "  </tbody>\n",
       "</table>\n",
       "</div>"
      ],
      "text/plain": [
       "   Request id Pickup point  Driver id          Status   Request timestamp  \\\n",
       "0         619      Airport        1.0  Trip Completed 2016-11-07 11:51:00   \n",
       "1         867      Airport        1.0  Trip Completed 2016-11-07 17:57:00   \n",
       "2        1807         City        1.0  Trip Completed 2016-12-07 09:17:00   \n",
       "3        2532      Airport        1.0  Trip Completed 2016-12-07 21:08:00   \n",
       "4        3112         City        1.0  Trip Completed 2016-07-13 08:33:16   \n",
       "\n",
       "       Drop timestamp  req_hour     time_slot  Demand  Delivery  \\\n",
       "0 2016-11-07 13:00:00        11          Noon       1         1   \n",
       "1 2016-11-07 18:47:00        17       Evening       1         1   \n",
       "2 2016-12-07 09:58:00         9  Late_Morning       1         1   \n",
       "3 2016-12-07 22:03:00        21         Night       1         1   \n",
       "4 2016-07-13 09:25:47         8  Late_Morning       1         1   \n",
       "\n",
       "                 Gap  \n",
       "0  Trip is completed  \n",
       "1  Trip is completed  \n",
       "2  Trip is completed  \n",
       "3  Trip is completed  \n",
       "4  Trip is completed  "
      ]
     },
     "execution_count": 34,
     "metadata": {},
     "output_type": "execute_result"
    }
   ],
   "source": [
    "uber_data.head()"
   ]
  },
  {
   "cell_type": "code",
   "execution_count": 35,
   "metadata": {},
   "outputs": [
    {
     "data": {
      "text/plain": [
       "<matplotlib.axes._subplots.AxesSubplot at 0x7a8d10a128>"
      ]
     },
     "execution_count": 35,
     "metadata": {},
     "output_type": "execute_result"
    },
    {
     "data": {
      "image/png": "[encoded data removed]",
      "text/plain": [
       "<Figure size 432x288 with 1 Axes>"
      ]
     },
     "metadata": {},
     "output_type": "display_data"
    }
   ],
   "source": [
    "sns.countplot(x=uber_data['Gap'], data = uber_data)"
   ]
  },
  {
   "cell_type": "markdown",
   "metadata": {},
   "source": [
    "_It's clear from the graph that most of the trips are incomplete (either \"Cancelled\" or \"No Cars Available\")._"
   ]
  },
  {
   "cell_type": "code",
   "execution_count": 36,
   "metadata": {},
   "outputs": [
    {
     "data": {
      "text/plain": [
       "<matplotlib.axes._subplots.AxesSubplot at 0x7a8d04af60>"
      ]
     },
     "execution_count": 36,
     "metadata": {},
     "output_type": "execute_result"
    },
    {
     "data": {
      "image/png": "[encoded data removed]",
      "text/plain": [
       "<Figure size 432x288 with 1 Axes>"
      ]
     },
     "metadata": {},
     "output_type": "display_data"
    }
   ],
   "source": [
    "gap_timeslot_df = pd.DataFrame(uber_data.groupby(['time_slot','Gap'])['Request id'].count().unstack(fill_value=0))\n",
    "gap_timeslot_df.plot.bar()"
   ]
  },
  {
   "cell_type": "markdown",
   "metadata": {},
   "source": [
    "_In the above graph we can see that in evening most of the trips are not completed._"
   ]
  },
  {
   "cell_type": "code",
   "execution_count": 37,
   "metadata": {},
   "outputs": [
    {
     "data": {
      "text/plain": [
       "<matplotlib.axes._subplots.AxesSubplot at 0x7a8d25d278>"
      ]
     },
     "execution_count": 37,
     "metadata": {},
     "output_type": "execute_result"
    },
    {
     "data": {
      "image/png": "[encoded data removed]",
      "text/plain": [
       "<Figure size 432x288 with 1 Axes>"
      ]
     },
     "metadata": {},
     "output_type": "display_data"
    }
   ],
   "source": [
    "gap_pickup_df = pd.DataFrame(uber_data.groupby(['Pickup point','Gap'])['Request id'].count().unstack(fill_value=0))\n",
    "gap_pickup_df.plot.bar()"
   ]
  },
  {
   "cell_type": "markdown",
   "metadata": {},
   "source": [
    "_In the above graph we can see that from City most of the trips are not completed. But the values are nearly equal to those of from Airport._"
   ]
  },
  {
   "cell_type": "code",
   "execution_count": 38,
   "metadata": {
    "scrolled": true
   },
   "outputs": [
    {
     "data": {
      "text/plain": [
       "<matplotlib.axes._subplots.AxesSubplot at 0x7a8d2d0358>"
      ]
     },
     "execution_count": 38,
     "metadata": {},
     "output_type": "execute_result"
    },
    {
     "data": {
      "image/png": "[encoded data removed]",
      "text/plain": [
       "<Figure size 432x288 with 1 Axes>"
      ]
     },
     "metadata": {},
     "output_type": "display_data"
    }
   ],
   "source": [
    "#Plot to count the number of requests that was completed and which was not, for the final analysis\n",
    "gap_df = pd.DataFrame(uber_data.groupby(['time_slot','Pickup point','Gap'])['Request id'].count().unstack(fill_value=0))\n",
    "gap_df.plot.bar()"
   ]
  },
  {
   "cell_type": "markdown",
   "metadata": {},
   "source": [
    "_From this final graph we can deduce \"Trip is not completed\" are more from Airport during the evening time._"
   ]
  }
 ],
 "metadata": {
  "kernelspec": {
   "display_name": "Python 3",
   "language": "python",
   "name": "python3"
  },
  "language_info": {
   "codemirror_mode": {
    "name": "ipython",
    "version": 3
   },
   "file_extension": ".py",
   "mimetype": "text/x-python",
   "name": "python",
   "nbconvert_exporter": "python",
   "pygments_lexer": "ipython3",
   "version": "3.6.5"
  }
 },
 "nbformat": 4,
 "nbformat_minor": 2
}
